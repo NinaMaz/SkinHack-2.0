{
 "cells": [
  {
   "cell_type": "code",
   "execution_count": 1,
   "metadata": {
    "collapsed": true
   },
   "outputs": [],
   "source": [
    "import numpy as np\n",
    "import pandas as pd\n",
    "import matplotlib.pyplot as plt\n",
    "\n",
    "%matplotlib inline"
   ]
  },
  {
   "cell_type": "code",
   "execution_count": null,
   "metadata": {
    "collapsed": true
   },
   "outputs": [],
   "source": [
    "infos = pd.read_excel(\"../data/t2_info.xlsx\")\n",
    "t2_train_c = pd.read_csv(\"../data/t2_train.csv\")\n",
    "\n",
    "t2_train_c = t2_train_c.rename(str, {\"user_ID\": \"id\"})\n",
    "t2_train_c = t2_train_c.merge(infos, on=\"id\")"
   ]
  },
  {
   "cell_type": "code",
   "execution_count": null,
   "metadata": {
    "collapsed": true
   },
   "outputs": [],
   "source": [
    "t2_train_c[\"m_id\"] = [str(t2_train_c[\"id\"][i]) + \"_\" + \n",
    "                      str(t2_train_c['period'][i]) for i in range(len(t2_train_c[\"id\"]))]"
   ]
  },
  {
   "cell_type": "code",
   "execution_count": null,
   "metadata": {
    "collapsed": true
   },
   "outputs": [],
   "source": [
    "sw_list = [\"sweat_10\", \"sweat_11\", \"sweat_12\", \"sweat_13\", \"sweat_14\", \"sweat_15\", \"sweat_16\",\n",
    "             \"sweat_r0\", \"sweat_r1\", \"sweat_r2\", \"sweat_r3\", \"sweat_r4\", \"sweat_r5\", \"sweat_r6\"]"
   ]
  },
  {
   "cell_type": "code",
   "execution_count": null,
   "metadata": {
    "collapsed": true
   },
   "outputs": [],
   "source": [
    "t2_train_c.columns"
   ]
  },
  {
   "cell_type": "code",
   "execution_count": null,
   "metadata": {
    "collapsed": true,
    "scrolled": true
   },
   "outputs": [],
   "source": [
    "for w in range(1, 13):\n",
    "    print(\"Current window: {}\".format(w))\n",
    "    t2_train_c[\"m_mean_w_{}\".format(w)] = t2_train_c.groupby(\"m_id\")[\"motion\"].apply(pd.rolling_mean, w)\n",
    "    t2_train_c[\"m_mean_w_{}\".format(w)] = t2_train_c[\"m_mean_w_{}\".format(w)].fillna(0)\n",
    "    \n",
    "    t2_train_c[\"m_std_w_{}\".format(w)] = t2_train_c.groupby(\"m_id\")[\"motion\"].apply(pd.rolling_std, w)\n",
    "    t2_train_c[\"m_std_w_{}\".format(w)] = t2_train_c[\"m_std_w_{}\".format(w)].fillna(0)\n",
    "    \n",
    "    t2_train_c[\"m_q10_w_{}\".format(w)] = t2_train_c.groupby(\"m_id\")[\"motion\"].apply(pd.rolling_quantile, w, quantile=0.1)\n",
    "    t2_train_c[\"m_q10_w_{}\".format(w)] = t2_train_c[\"m_q10_w_{}\".format(w)].fillna(0)\n",
    "    \n",
    "    t2_train_c[\"m_q90_w_{}\".format(w)] = t2_train_c.groupby(\"m_id\")[\"motion\"].apply(pd.rolling_quantile, w, quantile=0.9)\n",
    "    t2_train_c[\"m_q90_w_{}\".format(w)] = t2_train_c[\"m_q90_w_{}\".format(w)].fillna(0)\n",
    "    \n",
    "    t2_train_c[\"t_mean_w_{}\".format(w)] = t2_train_c.groupby(\"m_id\")[\"temperature\"].apply(pd.rolling_mean, w)\n",
    "    t2_train_c[\"t_mean_w_{}\".format(w)] = t2_train_c[\"t_mean_w_{}\".format(w)].fillna(0)\n",
    "    \n",
    "    t2_train_c[\"t_std_w_{}\".format(w)] = t2_train_c.groupby(\"m_id\")[\"temperature\"].apply(pd.rolling_std, w)\n",
    "    t2_train_c[\"t_std_w_{}\".format(w)] = t2_train_c[\"t_std_w_{}\".format(w)].fillna(0)\n",
    "    \n",
    "    t2_train_c[\"t_q10_w_{}\".format(w)] = t2_train_c.groupby(\"m_id\")[\"temperature\"].apply(pd.rolling_quantile, w, quantile=0.1)\n",
    "    t2_train_c[\"t_q10_w_{}\".format(w)] = t2_train_c[\"t_q10_w_{}\".format(w)].fillna(0)\n",
    "    \n",
    "    t2_train_c[\"t_q90_w_{}\".format(w)] = t2_train_c.groupby(\"m_id\")[\"temperature\"].apply(pd.rolling_quantile, w, quantile=0.9)\n",
    "    t2_train_c[\"t_q90_w_{}\".format(w)] = t2_train_c[\"t_q90_w_{}\".format(w)].fillna(0)"
   ]
  },
  {
   "cell_type": "code",
   "execution_count": null,
   "metadata": {
    "collapsed": true
   },
   "outputs": [],
   "source": [
    "col_list = []\n",
    "for w in range(1, 13):\n",
    "    col_list.append(\"m_mean_w_{}\".format(w))\n",
    "    col_list.append(\"m_std_w_{}\".format(w))\n",
    "    col_list.append(\"m_q10_w_{}\".format(w))\n",
    "    col_list.append(\"m_q90_w_{}\".format(w))\n",
    "    col_list.append(\"t_mean_w_{}\".format(w))\n",
    "    col_list.append(\"t_std_w_{}\".format(w))\n",
    "    col_list.append(\"t_q10_w_{}\".format(w))\n",
    "    col_list.append(\"t_q90_w_{}\".format(w))\n",
    "    \n",
    "col_list += sw_list\n",
    "col_list += [\"m_id\", \"study_x\", \"sex\", \"age\", \"self_size\", \"shirt_size\", \"deodorant_left\", \"deodorant_right\"]"
   ]
  },
  {
   "cell_type": "code",
   "execution_count": null,
   "metadata": {
    "collapsed": true
   },
   "outputs": [],
   "source": [
    "train_rolling = t2_train_c[col_list]\n",
    "train_rolling = train_rolling.drop(\"m_std_w_1\", axis=1)\n",
    "train_rolling = train_rolling.drop(\"t_std_w_1\", axis=1)"
   ]
  },
  {
   "cell_type": "code",
   "execution_count": null,
   "metadata": {
    "collapsed": true
   },
   "outputs": [],
   "source": [
    "# Find missing size values and replace nans (for now)\n",
    "self_size = np.array(train_rolling.self_size.fillna(\"NA\"))\n",
    "shirt_size = np.array(train_rolling.shirt_size.fillna(\"NA\"))\n",
    "\n",
    "for i in range(len(self_size)):\n",
    "    if self_size[i] == \"S oder M\":\n",
    "        self_size[i] = \"S/M\"\n",
    "    if self_size[i] == \"NA\" and shirt_size[i] != \"NA\":\n",
    "        self_size[i] = shirt_size[i]\n",
    "    if shirt_size[i] == \"NA\" and self_size[i] != \"NA\":\n",
    "        shirt_size[i] = self_size[i]"
   ]
  },
  {
   "cell_type": "code",
   "execution_count": null,
   "metadata": {
    "collapsed": true
   },
   "outputs": [],
   "source": [
    "# Put nans back\n",
    "train_rolling.self_size = self_size\n",
    "train_rolling.shirt_size = shirt_size"
   ]
  },
  {
   "cell_type": "code",
   "execution_count": null,
   "metadata": {
    "collapsed": true
   },
   "outputs": [],
   "source": [
    "train_rolling.to_csv(\"train_rolling.csv\")"
   ]
  },
  {
   "cell_type": "code",
   "execution_count": null,
   "metadata": {
    "collapsed": true
   },
   "outputs": [],
   "source": [
    "train_rolling = pd.read_csv(\"train_rolling.csv\")"
   ]
  },
  {
   "cell_type": "code",
   "execution_count": null,
   "metadata": {
    "collapsed": true
   },
   "outputs": [],
   "source": [
    "train_rolling.self_size = train_rolling.self_size.fillna(\"NA\")\n",
    "train_rolling.shirt_size = train_rolling.shirt_size.fillna(\"NA\")"
   ]
  },
  {
   "cell_type": "code",
   "execution_count": null,
   "metadata": {
    "collapsed": true
   },
   "outputs": [],
   "source": [
    "train_rolling = pd.concat([train_rolling, pd.get_dummies(train_rolling.self_size, prefix=\"self\")], join=\"inner\", axis=1)\n",
    "train_rolling = pd.concat([train_rolling, pd.get_dummies(train_rolling.shirt_size, prefix=\"shirt\")], join=\"inner\", axis=1)\n",
    "\n",
    "train_rolling = train_rolling.drop(\"self_size\", axis=1)\n",
    "train_rolling = train_rolling.drop(\"shirt_size\", axis=1)"
   ]
  },
  {
   "cell_type": "code",
   "execution_count": null,
   "metadata": {
    "collapsed": true
   },
   "outputs": [],
   "source": [
    "train_rolling = pd.concat([train_rolling, pd.get_dummies(train_rolling.sex)], join=\"inner\", axis=1)\n",
    "\n",
    "train_rolling = train_rolling.drop(\"sex\", axis=1)"
   ]
  },
  {
   "cell_type": "code",
   "execution_count": null,
   "metadata": {
    "collapsed": true
   },
   "outputs": [],
   "source": [
    "train_rolling = pd.concat([train_rolling, pd.get_dummies(train_rolling.deodorant_left, prefix=\"d_l\")], join=\"inner\", axis=1)\n",
    "train_rolling = pd.concat([train_rolling, pd.get_dummies(train_rolling.deodorant_right, prefix=\"d_r\")], join=\"inner\", axis=1)\n",
    "train_rolling = pd.concat([train_rolling, pd.get_dummies(train_rolling.study_x, prefix=\"study\")], join=\"inner\", axis=1)\n",
    "\n",
    "train_rolling = train_rolling.drop(\"study_x\", axis=1)\n",
    "train_rolling = train_rolling.drop(\"deodorant_left\", axis=1)\n",
    "train_rolling = train_rolling.drop(\"deodorant_right\", axis=1)"
   ]
  },
  {
   "cell_type": "code",
   "execution_count": null,
   "metadata": {
    "collapsed": true
   },
   "outputs": [],
   "source": [
    "train_rolling.drop(\"Unnamed: 0\", axis=1)\n",
    "train_rolling.to_csv(\"../data/train_ohe.csv\")"
   ]
  },
  {
   "cell_type": "markdown",
   "metadata": {},
   "source": [
    " # Start here"
   ]
  },
  {
   "cell_type": "code",
   "execution_count": 2,
   "metadata": {},
   "outputs": [
    {
     "name": "stderr",
     "output_type": "stream",
     "text": [
      "/home/olegsudakov/anaconda3/lib/python3.6/site-packages/sklearn/cross_validation.py:44: DeprecationWarning: This module was deprecated in version 0.18 in favor of the model_selection module into which all the refactored classes and functions are moved. Also note that the interface of the new CV iterators are different from that of this module. This module will be removed in 0.20.\n",
      "  \"This module will be removed in 0.20.\", DeprecationWarning)\n"
     ]
    }
   ],
   "source": [
    "from xgboost import XGBRegressor\n",
    "\n",
    "train_rolling = pd.read_csv(\"../data/train_ohe.csv\")\n",
    "\n",
    "np.random.seed(42)\n",
    "un = np.unique(train_rolling.m_id)\n",
    "np.random.shuffle(un)\n",
    "id_val, id_train = un[:140], un[140:]"
   ]
  },
  {
   "cell_type": "code",
   "execution_count": 3,
   "metadata": {
    "collapsed": true
   },
   "outputs": [],
   "source": [
    "train_rolling = train_rolling.drop(\"Unnamed: 0\", axis=1)\n",
    "train_rolling = train_rolling.drop(\"Unnamed: 0.1\", axis=1)"
   ]
  },
  {
   "cell_type": "code",
   "execution_count": 4,
   "metadata": {
    "collapsed": true
   },
   "outputs": [],
   "source": [
    "df_train = train_rolling.loc[train_rolling['m_id'].isin(id_train)]\n",
    "df_val = train_rolling.loc[train_rolling['m_id'].isin(id_val)]"
   ]
  },
  {
   "cell_type": "code",
   "execution_count": 5,
   "metadata": {
    "collapsed": true
   },
   "outputs": [],
   "source": [
    "sw_list = [\"sweat_10\", \"sweat_11\", \"sweat_12\", \"sweat_13\", \"sweat_14\", \"sweat_15\", \"sweat_16\",\n",
    "             \"sweat_r0\", \"sweat_r1\", \"sweat_r2\", \"sweat_r3\", \"sweat_r4\", \"sweat_r5\", \"sweat_r6\"]\n",
    "\n",
    "y_train = df_train[sw_list]\n",
    "y_val = df_val[sw_list]\n",
    "\n",
    "X_train = df_train.drop(sw_list + [\"m_id\"], axis=1)\n",
    "X_val = df_val.drop(sw_list + [\"m_id\"], axis=1)"
   ]
  },
  {
   "cell_type": "code",
   "execution_count": 6,
   "metadata": {
    "collapsed": true
   },
   "outputs": [],
   "source": [
    "from sklearn.model_selection import GridSearchCV\n",
    "from time import time\n",
    "from sklearn.metrics import mean_squared_error"
   ]
  },
  {
   "cell_type": "code",
   "execution_count": null,
   "metadata": {},
   "outputs": [
    {
     "name": "stdout",
     "output_type": "stream",
     "text": [
      "Processing sweat_10\n",
      "Depth: 3\n"
     ]
    }
   ],
   "source": [
    "import sys\n",
    "#sys.stdout = open('logs.txt', 'w')\n",
    "\n",
    "y_pred = y_val.copy()\n",
    "\n",
    "params = {\n",
    "    \"max_depth\": [3, 6, 9],\n",
    "    \"min_child_weight\": [1, 3, 5],\n",
    "    #\"colsample_bytree\": [0.5, 0.75, 1],\n",
    "    #\"gamma\": [0, 0.3, 0.5]\n",
    "}\n",
    "\n",
    "mses = np.zeros((len(sw_list), 9))\n",
    "zero_mses = np.zeros((len(sw_list), 9))\n",
    "params = np.zeros((len(sw_list), 9, 3))\n",
    "sw_ind = 0\n",
    "\n",
    "for sw_type in sw_list:\n",
    "    print(\"Processing {}\".format(sw_type))\n",
    "    ind = 0\n",
    "    for max_depth in [3, 6, 9]:\n",
    "        print(\"Depth: {}\".format(max_depth))\n",
    "        xgb = XGBRegressor(max_depth=max_depth)\n",
    "        t = time()\n",
    "        xgb.fit(X_train, y_train[sw_type])\n",
    "        y_pred[sw_type] = xgb.predict(X_val)\n",
    "        print(\"Time spent: {}\".format(time() - t))\n",
    "        print(\"Val MSE: {}\".format(mean_squared_error(y_val[sw_type], y_pred[sw_type])))\n",
    "        print(\"No zero val MSE: {}\".format(mean_squared_error(y_val[sw_type],\n",
    "                                                              (y_pred[sw_type]+np.abs(y_pred[sw_type]))/2)))\n",
    "        print(\"-\"*25)\n",
    "        mses[sw_ind, ind] = mean_squared_error(y_val[sw_type], y_pred[sw_type])\n",
    "        zero_mses[sw_ind, ind] = mean_squared_error(y_val[sw_type],\n",
    "                                            (y_pred[sw_type]+np.abs(y_pred[sw_type]))/2)\n",
    "        params[sw_ind, ind, 0] = max_depth\n",
    "        params[sw_ind, ind, 1] = min_child_weight\n",
    "        params[sw_ind, ind, 2] = colsample_bytree\n",
    "        ind += 1\n",
    "    sw_ind += 1"
   ]
  },
  {
   "cell_type": "code",
   "execution_count": null,
   "metadata": {
    "collapsed": true
   },
   "outputs": [],
   "source": [
    "from sklearn.metrics import mean_squared_error\n",
    "\n",
    "mean_squared_error(y_val.values.flatten(), (y_pred.values.flatten()+((y_pred + np.abs(y_pred))/2).values.flatten()))"
   ]
  },
  {
   "cell_type": "code",
   "execution_count": null,
   "metadata": {
    "collapsed": true
   },
   "outputs": [],
   "source": [
    "mean_squared_error(y_val, y_pred)"
   ]
  },
  {
   "cell_type": "code",
   "execution_count": null,
   "metadata": {
    "collapsed": true
   },
   "outputs": [],
   "source": [
    "gs.best_params_"
   ]
  },
  {
   "cell_type": "code",
   "execution_count": null,
   "metadata": {
    "collapsed": true
   },
   "outputs": [],
   "source": [
    "mean_squared_error(y_val, (y_pred+np.abs(y_pred))/2)"
   ]
  },
  {
   "cell_type": "code",
   "execution_count": null,
   "metadata": {
    "collapsed": true
   },
   "outputs": [],
   "source": [
    "plt.figure(figsize = (8,8))\n",
    "\n",
    "plt.hist(y_pred.values.flatten(), label=\"Predicted\", alpha=0.8)\n",
    "plt.hist(y_val.values.flatten(), label=\"Validation\", alpha=0.8)\n",
    "plt.legend()"
   ]
  },
  {
   "cell_type": "code",
   "execution_count": null,
   "metadata": {
    "collapsed": true
   },
   "outputs": [],
   "source": []
  }
 ],
 "metadata": {
  "kernelspec": {
   "display_name": "Python 2",
   "language": "python",
   "name": "python2"
  },
  "language_info": {
   "codemirror_mode": {
    "name": "ipython",
    "version": 2
   },
   "file_extension": ".py",
   "mimetype": "text/x-python",
   "name": "python",
   "nbconvert_exporter": "python",
   "pygments_lexer": "ipython2",
   "version": "2.7.13"
  }
 },
 "nbformat": 4,
 "nbformat_minor": 2
}
